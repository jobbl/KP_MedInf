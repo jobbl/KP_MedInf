{
 "cells": [
  {
   "cell_type": "code",
   "execution_count": 1,
   "metadata": {},
   "outputs": [],
   "source": [
    "from datetime import datetime\n",
    "import pandas as pd\n",
    "import numpy as np\n",
    "from sklearn.impute import SimpleImputer\n",
    "from matplotlib import pyplot as plt\n",
    "import seaborn as sns"
   ]
  },
  {
   "cell_type": "code",
   "execution_count": 26,
   "metadata": {},
   "outputs": [],
   "source": [
    "# File paths and separator\n",
    "DATA_PATH_stages = \"data/extracted/kdigo_stages_measured.csv\"\n",
    "DATA_PATH_labs = \"data/extracted/labs-kdigo_stages_measured.csv\"\n",
    "DATA_PATH_labs_new = \"data/extracted/labs_new.csv\"\n",
    "DATA_PATH_vitals = \"data/extracted/vitals-kdigo_stages_measured.csv\"\n",
    "DATA_PATH_vents = \"data/extracted/vents-vasopressor-sedatives-kdigo_stages_measured.csv\"\n",
    "DATA_PATH_detail = \"data/extracted/icustay_detail-kdigo_stages_measured.csv\"\n",
    "DATA_PATH_heightweight = \"data/extracted/height_weight.csv\"\n",
    "DATA_PATH_calcium = \"data/extracted/calcium-kdigo_stages_measured.csv\"\n",
    "DATA_PATH_inr_max = \"data/extracted/inr_max-kdigo_stages_measured.csv\"\n",
    "SEPARATOR = \";\"\n",
    "\n",
    "# Constants\n",
    "IMPUTE_EACH_ID = False\n",
    "IMPUTE_COLUMN = False\n",
    "TESTING = False\n",
    "TEST_SIZE = 0.05\n",
    "SPLIT_SIZE = 0.2\n",
    "MAX_DAYS = 35\n",
    "CLASS1 = True\n",
    "ALL_STAGES = False\n",
    "MAX_FEATURE_SET = True\n",
    "FIRST_TURN_POS = True\n",
    "TIME_SAMPLING = True\n",
    "SAMPLING_INTERVAL = '6H'\n",
    "RESAMPLE_LIMIT = 16\n",
    "MOST_COMMON = False\n",
    "IMPUTE_METHOD = 'most_frequent'\n",
    "FILL_VALUE = 0\n",
    "ADULTS_MIN_AGE = 18\n",
    "ADULTS_MAX_AGE = 120\n",
    "NORMALIZATION = 'min-max'\n",
    "HOURS_AHEAD = 48\n",
    "NORM_TYPE = 'min_max'\n",
    "RANDOM = 42\n",
    "\n",
    "def filter_by_length_of_stay(X):\n",
    "    drop_list = []\n",
    "    long_stays = X.groupby(['icustay_id']).apply(lambda group: (group['charttime'].max() - group['charttime'].min()).total_seconds() / (24 * 60 * 60) > MAX_DAYS)\n",
    "\n",
    "    for icustay_id, is_long in long_stays.items():\n",
    "        if is_long:\n",
    "            max_time = X[X['icustay_id'] == icustay_id]['charttime'].max() - pd.to_timedelta(MAX_DAYS, unit='D')\n",
    "            X = X[~((X['icustay_id'] == icustay_id) & (X['charttime'] < max_time))]\n",
    "\n",
    "    short_stays = X.groupby(['icustay_id']).apply(lambda group: (group['charttime'].max() - group['charttime'].min()).total_seconds() / (24 * 60 * 60) < (HOURS_AHEAD/24))\n",
    "    drop_list = short_stays[short_stays].index.tolist()\n",
    "\n",
    "    X = X[~X.icustay_id.isin(drop_list)]\n",
    "    return X"
   ]
  },
  {
   "cell_type": "code",
   "execution_count": 28,
   "metadata": {},
   "outputs": [
    {
     "name": "stdout",
     "output_type": "stream",
     "text": [
      "Loading datasets...\n"
     ]
    }
   ],
   "source": [
    "# Load datasets\n",
    "print(\"Loading datasets...\")\n",
    "X = pd.read_csv(DATA_PATH_stages, sep=SEPARATOR)\n",
    "X.drop([\"aki_stage_creat\", \"aki_stage_uo\"], axis=1, inplace=True)\n",
    "X = X.dropna(how='all', subset=['creat', 'uo_rt_6hr', 'uo_rt_12hr', 'uo_rt_24hr', 'aki_stage'])\n",
    "X['charttime'] = pd.to_datetime(X['charttime'])\n",
    "\n",
    "dataset_detail = pd.read_csv(DATA_PATH_detail, sep=SEPARATOR)\n",
    "dataset_detail.drop(['dod', 'admittime', 'dischtime', 'los_hospital', 'ethnicity', \n",
    "                     'hospital_expire_flag', 'hospstay_seq', 'first_hosp_stay', 'intime', \n",
    "                     'outtime', 'los_icu', 'icustay_seq', 'first_icu_stay'], axis=1, inplace=True)\n",
    "\n",
    "# dataset_labs = pd.read_csv(DATA_PATH_labs, sep=SEPARATOR)\n",
    "# dataset_labs = dataset_labs.dropna(subset=['charttime']).dropna(subset=dataset_labs.columns[4:], how='all')\n",
    "# dataset_labs['charttime'] = pd.to_datetime(dataset_labs['charttime'])\n",
    "# dataset_labs = dataset_labs.sort_values(by=['icustay_id', 'charttime'])\n",
    "\n",
    "dataset_labs_new = pd.read_csv(DATA_PATH_labs_new, sep=SEPARATOR)\n",
    "dataset_labs_new = dataset_labs_new.dropna(subset=['charttime']).dropna(subset=dataset_labs_new.columns[4:], how='all')\n",
    "dataset_labs_new['charttime'] = pd.to_datetime(dataset_labs_new['charttime'])\n",
    "dataset_labs_new = dataset_labs_new.sort_values(by=['icustay_id', 'charttime'])\n",
    "\n",
    "dataset_vitals = pd.read_csv(DATA_PATH_vitals, sep=SEPARATOR)\n",
    "dataset_vents = pd.read_csv(DATA_PATH_vents, sep=SEPARATOR)\n",
    "dataset_vitals.drop([\"heartrate_min\", \"heartrate_max\", \"sysbp_min\", \"sysbp_max\", \"diasbp_min\", \"diasbp_max\",\n",
    "                        'meanbp_min', 'meanbp_max', 'tempc_min', 'tempc_max', \"resprate_min\", \"resprate_max\", \n",
    "                        \"spo2_min\", \"spo2_max\", \"glucose_min\", \"glucose_max\"], axis=1, inplace=True)\n",
    "dataset_vitals['charttime'] = pd.to_datetime(dataset_vitals['charttime'])\n",
    "dataset_vents['charttime'] = pd.to_datetime(dataset_vents['charttime'])\n",
    "dataset_vitals = dataset_vitals.dropna(subset=dataset_vitals.columns[4:], how='all')\n",
    "dataset_vitals = dataset_vitals.sort_values(by=['icustay_id', 'charttime'])\n",
    "dataset_vents = dataset_vents.sort_values(by=['icustay_id', 'charttime'])\n",
    "\n",
    "dataset_heightweight = pd.read_csv(DATA_PATH_heightweight, sep=SEPARATOR)\n",
    "dataset_heightweight = dataset_heightweight.dropna(subset=['icustay_id', 'height_first', 'weight_first'], how='all')\n",
    "dataset_heightweight = dataset_heightweight.sort_values(by=['icustay_id'])\n",
    "\n",
    "dataset_calcium = pd.read_csv(DATA_PATH_calcium, sep=SEPARATOR)\n",
    "dataset_calcium.drop([\"hadm_id\"], axis=1, inplace=True)\n",
    "dataset_calcium['charttime'] = pd.to_datetime(dataset_calcium['charttime'])\n",
    "dataset_calcium = dataset_calcium.sort_values(by=['icustay_id', 'charttime'])\n",
    "\n",
    "dataset_inr_max = pd.read_csv(DATA_PATH_inr_max, sep=SEPARATOR)\n",
    "dataset_inr_max.drop([\"hadm_id\", \"subject_id\"], axis=1, inplace=True)\n",
    "dataset_inr_max = dataset_inr_max.sort_values(by=['icustay_id'])\n",
    "\n",
    "# Calculate mean for each pair and drop original columns\n",
    "# column_pairs = [('aniongap_min', 'aniongap_max'), ('albumin_min', 'albumin_max'), \n",
    "#                 ('bands_min', 'bands_max'), ('bicarbonate_min', 'bicarbonate_max'), \n",
    "#                 ('bilirubin_min', 'bilirubin_max'), ('creatinine_min', 'creatinine_max'), \n",
    "#                 ('chloride_min', 'chloride_max'), ('glucose_min', 'glucose_max'), \n",
    "#                 ('hematocrit_min', 'hematocrit_max'), ('hemoglobin_min', 'hemoglobin_max'), \n",
    "#                 ('lactate_min', 'lactate_max'), ('platelet_min', 'platelet_max'), \n",
    "#                 ('potassium_min', 'potassium_max'), ('ptt_min', 'ptt_max'), \n",
    "#                 ('inr_min', 'inr_max'), ('pt_min', 'pt_max'), ('sodium_min', 'sodium_max'), \n",
    "#                 ('bun_min', 'bun_max'), ('wbc_min', 'wbc_max')]\n",
    "\n",
    "# for min_col, max_col in column_pairs:\n",
    "#     mean_col = min_col.rsplit('_', 1)[0] + '_mean'\n",
    "#     dataset_labs[mean_col] = dataset_labs[[min_col, max_col]].mean(axis=1)\n",
    "#     dataset_labs.drop([min_col, max_col], axis=1, inplace=True)\n",
    "\n",
    "column_pairs_new = [('aniongap_min', 'aniongap_max'), ('albumin_min', 'albumin_max'), \n",
    "                ('bands_min', 'bands_max'), ('bicarbonate_min', 'bicarbonate_max'), \n",
    "                ('bilirubin_min', 'bilirubin_max'), ('creatinine_min', 'creatinine_max'), \n",
    "                ('chloride_min', 'chloride_max'), ('glucose_min', 'glucose_max'), \n",
    "                ('hematocrit_min', 'hematocrit_max'), ('hemoglobin_min', 'hemoglobin_max'), \n",
    "                ('lactate_min', 'lactate_max'), ('platelet_min', 'platelet_max'), \n",
    "                ('potassium_min', 'potassium_max'), ('ptt_min', 'ptt_max'), \n",
    "                ('inr_min', 'inr_max'), ('pt_min', 'pt_max'), ('sodium_min', 'sodium_max'), \n",
    "                ('bun_min', 'bun_max'), ('wbc_min', 'wbc_max'), ('bilirubin_total_min', 'bilirubin_total_max'), \n",
    "                ('estimated_gfr_min', 'estimated_gfr_max'), ('phosphate_min', 'phosphate_max'), \n",
    "                ('urea_nitrogen_min', 'urea_nitrogen_max'), ('uric_acid_min', 'uric_acid_max'), \n",
    "                ('calcium_total_min', 'calcium_total_max'), ('inr_pt_min', 'inr_pt_max'), \n",
    "                ('platelet_count_min', 'platelet_count_max')]\n",
    "\n",
    "for min_col, max_col in column_pairs_new:\n",
    "    mean_col = min_col.rsplit('_', 1)[0] + '_mean'\n",
    "    dataset_labs_new[mean_col] = dataset_labs_new[[min_col, max_col]].mean(axis=1)\n",
    "    dataset_labs_new.drop([min_col, max_col], axis=1, inplace=True)\n",
    "\n",
    "# Merge datasets\n",
    "if MAX_FEATURE_SET:\n",
    "    # X = X.merge(dataset_labs, on=[\"icustay_id\", \"charttime\"], how=\"outer\")\n",
    "    X = X.merge(dataset_labs_new, on=[\"icustay_id\", \"charttime\"], how=\"outer\")\n",
    "    X = X.merge(dataset_vitals, on=[\"icustay_id\", \"charttime\", \"subject_id\", \"hadm_id\"], how=\"outer\")\n",
    "    X = X.merge(dataset_vents, on=[\"icustay_id\", \"charttime\"], how=\"outer\")\n",
    "    X.drop([\"subject_id\"], axis=1, inplace=True)\n",
    "    X = X.merge(dataset_calcium, on=[\"icustay_id\", \"charttime\"], how=\"outer\")"
   ]
  },
  {
   "cell_type": "code",
   "execution_count": 29,
   "metadata": {},
   "outputs": [
    {
     "name": "stdout",
     "output_type": "stream",
     "text": [
      "Index(['icustay_id', 'charttime', 'creat', 'uo_rt_6hr', 'uo_rt_12hr',\n",
      "       'uo_rt_24hr', 'aki_stage', 'hadm_id', 'aniongap_mean', 'albumin_mean',\n",
      "       'bands_mean', 'bicarbonate_mean', 'bilirubin_mean', 'creatinine_mean',\n",
      "       'chloride_mean', 'glucose_mean_x', 'hematocrit_mean', 'hemoglobin_mean',\n",
      "       'lactate_mean', 'platelet_mean', 'potassium_mean', 'ptt_mean',\n",
      "       'inr_mean', 'pt_mean', 'sodium_mean', 'bun_mean', 'wbc_mean',\n",
      "       'bilirubin_total_mean', 'estimated_gfr_mean', 'phosphate_mean',\n",
      "       'urea_nitrogen_mean', 'uric_acid_mean', 'calcium_total_mean',\n",
      "       'inr_pt_mean', 'platelet_count_mean', 'heartrate_mean', 'sysbp_mean',\n",
      "       'diasbp_mean', 'meanbp_mean', 'resprate_mean', 'tempc_mean',\n",
      "       'spo2_mean', 'glucose_mean_y', 'vent', 'vasopressor', 'sedative',\n",
      "       'subject_id', 'calcium'],\n",
      "      dtype='object')\n"
     ]
    }
   ],
   "source": [
    "# print(dataset_labs.columns) \n",
    "print(X.columns)"
   ]
  },
  {
   "cell_type": "code",
   "execution_count": 30,
   "metadata": {},
   "outputs": [
    {
     "name": "stdout",
     "output_type": "stream",
     "text": [
      "Filtering patients by age and length of stay...\n"
     ]
    },
    {
     "name": "stderr",
     "output_type": "stream",
     "text": [
      "C:\\Users\\derqu\\AppData\\Local\\Temp\\ipykernel_24936\\2403331330.py:39: DeprecationWarning: DataFrameGroupBy.apply operated on the grouping columns. This behavior is deprecated, and in a future version of pandas the grouping columns will be excluded from the operation. Either pass `include_groups=False` to exclude the groupings or explicitly select the grouping columns after groupby to silence this warning.\n",
      "  long_stays = X.groupby(['icustay_id']).apply(lambda group: (group['charttime'].max() - group['charttime'].min()).total_seconds() / (24 * 60 * 60) > MAX_DAYS)\n",
      "C:\\Users\\derqu\\AppData\\Local\\Temp\\ipykernel_24936\\2403331330.py:46: DeprecationWarning: DataFrameGroupBy.apply operated on the grouping columns. This behavior is deprecated, and in a future version of pandas the grouping columns will be excluded from the operation. Either pass `include_groups=False` to exclude the groupings or explicitly select the grouping columns after groupby to silence this warning.\n",
      "  short_stays = X.groupby(['icustay_id']).apply(lambda group: (group['charttime'].max() - group['charttime'].min()).total_seconds() / (24 * 60 * 60) < (HOURS_AHEAD/24))\n"
     ]
    }
   ],
   "source": [
    "print(\"Filtering patients by age and length of stay...\")\n",
    "# Filtering patients by age and length of stay\n",
    "dataset_detail = dataset_detail[dataset_detail['admission_age'] >= ADULTS_MIN_AGE]\n",
    "adults_icustay_id_list = dataset_detail['icustay_id'].unique()\n",
    "X = X[X.icustay_id.isin(adults_icustay_id_list)].sort_values(by=['icustay_id', 'charttime'])\n",
    "\n",
    "X = filter_by_length_of_stay(X)\n",
    "dataset_detail = dataset_detail[dataset_detail.icustay_id.isin(X['icustay_id'].unique())].sort_values(by=['icustay_id'])\n",
    "\n",
    "# Forward fill AKI stages first\n",
    "# X['aki_stage'] = X.groupby('icustay_id')['aki_stage'].ffill(limit=RESAMPLE_LIMIT).fillna(0)\n",
    "\n"
   ]
  },
  {
   "cell_type": "code",
   "execution_count": null,
   "metadata": {},
   "outputs": [
    {
     "name": "stdout",
     "output_type": "stream",
     "text": [
      "Index(['subject_id', 'hadm_id', 'icustay_id', 'charttime', 'aniongap_min',\n",
      "       'aniongap_max', 'albumin_min', 'albumin_max', 'bands_min', 'bands_max',\n",
      "       'bicarbonate_min', 'bicarbonate_max', 'bilirubin_min', 'bilirubin_max',\n",
      "       'creatinine_min', 'creatinine_max', 'chloride_min', 'chloride_max',\n",
      "       'glucose_min', 'glucose_max', 'hematocrit_min', 'hematocrit_max',\n",
      "       'hemoglobin_min', 'hemoglobin_max', 'lactate_min', 'lactate_max',\n",
      "       'platelet_min', 'platelet_max', 'potassium_min', 'potassium_max',\n",
      "       'ptt_min', 'ptt_max', 'inr_min', 'inr_max', 'pt_min', 'pt_max',\n",
      "       'sodium_min', 'sodium_max', 'bun_min', 'bun_max', 'wbc_min', 'wbc_max',\n",
      "       'bilirubin_total_min', 'bilirubin_total_max', 'estimated_gfr_min',\n",
      "       'estimated_gfr_max', 'phosphate_min', 'phosphate_max',\n",
      "       'urea_nitrogen_min', 'urea_nitrogen_max', 'uric_acid_min',\n",
      "       'uric_acid_max', 'calcium_total_min', 'calcium_total_max', 'inr_pt_min',\n",
      "       'inr_pt_max', 'platelet_count_min', 'platelet_count_max'],\n",
      "      dtype='object')\n"
     ]
    }
   ],
   "source": [
    "print(dataset_labs_new.columns  )"
   ]
  },
  {
   "cell_type": "code",
   "execution_count": null,
   "metadata": {},
   "outputs": [
    {
     "name": "stdout",
     "output_type": "stream",
     "text": [
      "Index(['subject_id', 'hadm_id', 'icustay_id', 'charttime', 'aniongap_min',\n",
      "       'aniongap_max', 'albumin_min', 'albumin_max', 'bands_min', 'bands_max',\n",
      "       'bicarbonate_min', 'bicarbonate_max', 'bilirubin_min', 'bilirubin_max',\n",
      "       'creatinine_min', 'creatinine_max', 'chloride_min', 'chloride_max',\n",
      "       'glucose_min', 'glucose_max', 'hematocrit_min', 'hematocrit_max',\n",
      "       'hemoglobin_min', 'hemoglobin_max', 'lactate_min', 'lactate_max',\n",
      "       'platelet_min', 'platelet_max', 'potassium_min', 'potassium_max',\n",
      "       'ptt_min', 'ptt_max', 'inr_min', 'inr_max', 'pt_min', 'pt_max',\n",
      "       'sodium_min', 'sodium_max', 'bun_min', 'bun_max', 'wbc_min', 'wbc_max',\n",
      "       'bilirubin_total_min', 'bilirubin_total_max', 'estimated_gfr_min',\n",
      "       'estimated_gfr_max', 'phosphate_min', 'phosphate_max',\n",
      "       'urea_nitrogen_min', 'urea_nitrogen_max', 'uric_acid_min',\n",
      "       'uric_acid_max', 'calcium_total_min', 'calcium_total_max', 'inr_pt_min',\n",
      "       'inr_pt_max', 'platelet_count_min', 'platelet_count_max'],\n",
      "      dtype='object')\n"
     ]
    }
   ],
   "source": [
    "print(dataset_labs_new.columns  )"
   ]
  },
  {
   "cell_type": "code",
   "execution_count": 17,
   "metadata": {},
   "outputs": [
    {
     "name": "stdout",
     "output_type": "stream",
     "text": [
      "Index(['icustay_id', 'charttime', 'creat', 'uo_rt_6hr', 'uo_rt_12hr',\n",
      "       'uo_rt_24hr', 'aki_stage', 'hadm_id', 'aniongap_mean', 'albumin_mean',\n",
      "       'bands_mean', 'bicarbonate_mean', 'bilirubin_mean', 'creatinine_mean',\n",
      "       'chloride_mean', 'glucose_mean_x', 'hematocrit_mean', 'hemoglobin_mean',\n",
      "       'lactate_mean', 'platelet_mean', 'potassium_mean', 'ptt_mean',\n",
      "       'inr_mean', 'pt_mean', 'sodium_mean', 'bun_mean', 'wbc_mean',\n",
      "       'bilirubin_total_mean', 'estimated_gfr_mean', 'phosphate_mean',\n",
      "       'urea_nitrogen_mean', 'uric_acid_mean', 'calcium_total_mean',\n",
      "       'inr_pt_mean', 'platelet_count_mean', 'heartrate_mean', 'sysbp_mean',\n",
      "       'diasbp_mean', 'meanbp_mean', 'resprate_mean', 'tempc_mean',\n",
      "       'spo2_mean', 'glucose_mean_y', 'vent', 'vasopressor', 'sedative',\n",
      "       'subject_id', 'calcium'],\n",
      "      dtype='object')\n"
     ]
    }
   ],
   "source": [
    "print(X.columns)"
   ]
  },
  {
   "cell_type": "code",
   "execution_count": 31,
   "metadata": {},
   "outputs": [],
   "source": [
    "label = ['aki_stage']\n",
    "skip = ['icustay_id', 'charttime', 'aki_stage']\n",
    "discrete_feat = ['sedative', 'vasopressor', 'vent', 'hadm_id']\n",
    "skip.extend(discrete_feat)    \n",
    "numeric_feat = list(X.columns.difference(skip))"
   ]
  },
  {
   "cell_type": "code",
   "execution_count": 32,
   "metadata": {},
   "outputs": [
    {
     "name": "stderr",
     "output_type": "stream",
     "text": [
      "C:\\Users\\derqu\\AppData\\Local\\Temp\\ipykernel_24936\\839706466.py:5: FutureWarning: 'H' is deprecated and will be removed in a future version, please use 'h' instead.\n",
      "  X = X.set_index('charttime').groupby('icustay_id').resample(SAMPLING_INTERVAL)\n"
     ]
    },
    {
     "name": "stdout",
     "output_type": "stream",
     "text": [
      "Merging sampled features\n"
     ]
    }
   ],
   "source": [
    "# Resampling\n",
    "if TIME_SAMPLING:\n",
    "    \n",
    "    # Set index and group by 'icustay_id' before resampling\n",
    "    X = X.set_index('charttime').groupby('icustay_id').resample(SAMPLING_INTERVAL)\n",
    "    \n",
    "    # Resample and aggregate features\n",
    "    if MAX_FEATURE_SET:\n",
    "        X_discrete = X[discrete_feat].max().fillna(FILL_VALUE).astype(np.int64)\n",
    "    X_numeric = X[numeric_feat].mean()\n",
    "    X_label = X['aki_stage'].max()\n",
    "\n",
    "    print(\"Merging sampled features\")\n",
    "    try:\n",
    "        X = pd.concat([X_numeric, X_discrete, X_label], axis=1).reset_index()\n",
    "    except:\n",
    "        X = pd.concat([X_numeric, X_label], axis=1).reset_index()\n",
    "\n"
   ]
  },
  {
   "cell_type": "code",
   "execution_count": 20,
   "metadata": {},
   "outputs": [
    {
     "name": "stdout",
     "output_type": "stream",
     "text": [
      "aki_stage\n",
      "0.0    41624\n",
      "2.0     6383\n",
      "1.0     4439\n",
      "3.0     4203\n",
      "Name: count, dtype: int64\n"
     ]
    }
   ],
   "source": [
    "print(X['aki_stage'].value_counts())    "
   ]
  },
  {
   "cell_type": "code",
   "execution_count": 33,
   "metadata": {},
   "outputs": [],
   "source": [
    "# Forward fill again after resampling\n",
    "X['aki_stage'] = X.groupby('icustay_id')['aki_stage'].ffill().fillna(0)\n",
    "\n",
    "# Ensure binary values (convert any positive number to 1)\n",
    "X['aki_stage'] = (X['aki_stage'] > 0).astype(int)\n",
    "\n",
    "# Shifting labels\n",
    "shift_steps = HOURS_AHEAD // int(SAMPLING_INTERVAL[:-1])\n",
    "X['aki_stage'] = X.groupby('icustay_id')['aki_stage'].shift(-shift_steps)\n",
    "X = X.dropna(subset=['aki_stage'])\n",
    "\n",
    "# Merging not time-dependent data\n",
    "dataset_detail = dataset_detail[dataset_detail['icustay_id'].isin(X['icustay_id'].unique())].sort_values(by=['icustay_id'])\n",
    "dataset_detail = pd.get_dummies(dataset_detail, columns=['gender', 'ethnicity_grouped'])\n",
    "dataset_detail.drop(['subject_id', 'hadm_id'], axis=1, inplace=True)\n",
    "X = X.merge(dataset_detail, on='icustay_id')\n",
    "X = X.merge(dataset_heightweight, on='icustay_id')\n",
    "X = X.merge(dataset_inr_max, on='icustay_id')\n"
   ]
  },
  {
   "cell_type": "code",
   "execution_count": 23,
   "metadata": {},
   "outputs": [],
   "source": [
    "# drop 'ethnicity_grouped_asian','ethnicity_grouped_black', 'ethnicity_grouped_hispanic','ethnicity_grouped_native', 'ethnicity_grouped_other','ethnicity_grouped_unknown', 'ethnicity_grouped_white'\n",
    "X = X.drop(['ethnicity_grouped_asian','ethnicity_grouped_black', 'ethnicity_grouped_hispanic','ethnicity_grouped_native', 'ethnicity_grouped_other','ethnicity_grouped_unknown', 'ethnicity_grouped_white'], axis=1)"
   ]
  },
  {
   "cell_type": "code",
   "execution_count": 24,
   "metadata": {},
   "outputs": [
    {
     "data": {
      "text/plain": [
       "Index(['icustay_id', 'charttime', 'albumin_mean', 'aniongap_mean',\n",
       "       'bands_mean', 'bicarbonate_mean', 'bilirubin_mean',\n",
       "       'bilirubin_total_mean', 'bun_mean', 'calcium', 'calcium_total_mean',\n",
       "       'chloride_mean', 'creat', 'creatinine_mean', 'diasbp_mean',\n",
       "       'estimated_gfr_mean', 'glucose_mean_x', 'glucose_mean_y',\n",
       "       'heartrate_mean', 'hematocrit_mean', 'hemoglobin_mean', 'inr_mean',\n",
       "       'inr_pt_mean', 'lactate_mean', 'meanbp_mean', 'phosphate_mean',\n",
       "       'platelet_count_mean', 'platelet_mean', 'potassium_mean', 'pt_mean',\n",
       "       'ptt_mean', 'resprate_mean', 'sodium_mean', 'spo2_mean', 'subject_id',\n",
       "       'sysbp_mean', 'tempc_mean', 'uo_rt_12hr', 'uo_rt_24hr', 'uo_rt_6hr',\n",
       "       'urea_nitrogen_mean', 'uric_acid_mean', 'wbc_mean', 'sedative',\n",
       "       'vasopressor', 'vent', 'hadm_id', 'aki_stage', 'admission_age',\n",
       "       'gender_F', 'gender_M', 'weight_first', 'weight_min', 'weight_max',\n",
       "       'height_first', 'height_min', 'height_max', 'inr_max'],\n",
       "      dtype='object')"
      ]
     },
     "execution_count": 24,
     "metadata": {},
     "output_type": "execute_result"
    }
   ],
   "source": [
    "X.columns"
   ]
  },
  {
   "cell_type": "code",
   "execution_count": 34,
   "metadata": {},
   "outputs": [],
   "source": [
    "\n",
    "# Save preprocessed data\n",
    "X.to_csv('data/preprocessed_data.csv', index=False)"
   ]
  }
 ],
 "metadata": {
  "kernelspec": {
   "display_name": "medinf",
   "language": "python",
   "name": "python3"
  },
  "language_info": {
   "codemirror_mode": {
    "name": "ipython",
    "version": 3
   },
   "file_extension": ".py",
   "mimetype": "text/x-python",
   "name": "python",
   "nbconvert_exporter": "python",
   "pygments_lexer": "ipython3",
   "version": "3.11.5"
  }
 },
 "nbformat": 4,
 "nbformat_minor": 2
}
