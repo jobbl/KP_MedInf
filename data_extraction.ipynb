import psycopg2

# Connection parameters
host='172.26.121.29'
database='mimiciii'
user='mimic3_user'
password='x<FD-u{W$!3qu(tSCaco'
port='5432'

# Create a connection
conn = psycopg2.connect(
    host=host,
    database=database,
    user=user,
    password=password,
    port=port
)

# Create a cursor object
cur = conn.cursor()

# Execute a query
cur.execute("SELECT * FROM mimiciii.table_name")  # replace "table_name" with the name of the table you want to query

# Fetch the results
rows = cur.fetchall()

for row in rows:
    print(row)

# Close the connection
cur.close()
conn.close()